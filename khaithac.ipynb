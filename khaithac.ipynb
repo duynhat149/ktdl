{
 "cells": [
  {
   "cell_type": "code",
   "execution_count": 1,
   "id": "initial_id",
   "metadata": {
    "collapsed": true,
    "ExecuteTime": {
     "end_time": "2024-03-24T13:54:33.347620900Z",
     "start_time": "2024-03-24T13:54:31.578374100Z"
    }
   },
   "outputs": [],
   "source": [
    "import pandas as pd\n",
    "import os\n",
    "import matplotlib.pyplot as plt\n",
    "path=\"C:\\\\Users\\\\21548\\\\PycharmProjects\\\\phantichdulieu\\\\.venv\\\\khaithac\\\\data\\\\data.CSV\"\n",
    "df1=pd.read_csv(path)"
   ]
  },
  {
   "cell_type": "markdown",
   "source": [
    "# link data: https://www.kaggle.com/datasets/ksabishek/product-sales-data"
   ],
   "metadata": {
    "collapsed": false
   },
   "id": "da29aa4275778bbc"
  },
  {
   "cell_type": "code",
   "execution_count": 2,
   "outputs": [
    {
     "data": {
      "text/plain": "(1041, 7)"
     },
     "execution_count": 2,
     "metadata": {},
     "output_type": "execute_result"
    }
   ],
   "source": [
    "df1.shape"
   ],
   "metadata": {
    "collapsed": false,
    "ExecuteTime": {
     "end_time": "2024-03-24T13:54:35.509353800Z",
     "start_time": "2024-03-24T13:54:35.489383700Z"
    }
   },
   "id": "90475675df8b1359"
  },
  {
   "cell_type": "code",
   "execution_count": 3,
   "outputs": [
    {
     "name": "stdout",
     "output_type": "stream",
     "text": [
      "<class 'pandas.core.frame.DataFrame'>\n",
      "RangeIndex: 1041 entries, 0 to 1040\n",
      "Data columns (total 7 columns):\n",
      " #   Column    Non-Null Count  Dtype \n",
      "---  ------    --------------  ----- \n",
      " 0   Date      1041 non-null   object\n",
      " 1   Q-P1      1041 non-null   int64 \n",
      " 2   S-P2      1041 non-null   int64 \n",
      " 3   Q-P2      1041 non-null   int64 \n",
      " 4   Volume    1041 non-null   int64 \n",
      " 5   Currency  1041 non-null   object\n",
      " 6   TP        1041 non-null   object\n",
      "dtypes: int64(4), object(3)\n",
      "memory usage: 57.1+ KB\n"
     ]
    }
   ],
   "source": [
    "df1.info()"
   ],
   "metadata": {
    "collapsed": false,
    "ExecuteTime": {
     "end_time": "2024-03-24T13:54:37.691343500Z",
     "start_time": "2024-03-24T13:54:37.643973700Z"
    }
   },
   "id": "68aebd132f535092"
  },
  {
   "cell_type": "markdown",
   "source": [
    "\tQ-P1: Giá chưa sale\n",
    "\tS-P2: Gía sale\n",
    "\tQ-P2: Doanh Thu Đạt được\n"
   ],
   "metadata": {
    "collapsed": false
   },
   "id": "22e375361fdd11f8"
  },
  {
   "cell_type": "code",
   "execution_count": 4,
   "outputs": [
    {
     "data": {
      "text/plain": "         Date   Q-P1   S-P2   Q-P2   Volume Currency               TP Month\n0  20/04/2018  40150  40000  80150  4164231      VND  TP. Ho Chi Minh    04\n1  23/04/2018  42300  41300  83600  1940924      VND           Ba Ria    04\n2  24/04/2018  41850  41300  83150  2291985      VND         Vung Tau    04\n3  26/04/2018  41900  41400  83300  1306023      VND      Thu Dau Mot    04\n4  27/04/2018  41800  40800  82600  1656048      VND            Di An    04",
      "text/html": "<div>\n<style scoped>\n    .dataframe tbody tr th:only-of-type {\n        vertical-align: middle;\n    }\n\n    .dataframe tbody tr th {\n        vertical-align: top;\n    }\n\n    .dataframe thead th {\n        text-align: right;\n    }\n</style>\n<table border=\"1\" class=\"dataframe\">\n  <thead>\n    <tr style=\"text-align: right;\">\n      <th></th>\n      <th>Date</th>\n      <th>Q-P1</th>\n      <th>S-P2</th>\n      <th>Q-P2</th>\n      <th>Volume</th>\n      <th>Currency</th>\n      <th>TP</th>\n      <th>Month</th>\n    </tr>\n  </thead>\n  <tbody>\n    <tr>\n      <th>0</th>\n      <td>20/04/2018</td>\n      <td>40150</td>\n      <td>40000</td>\n      <td>80150</td>\n      <td>4164231</td>\n      <td>VND</td>\n      <td>TP. Ho Chi Minh</td>\n      <td>04</td>\n    </tr>\n    <tr>\n      <th>1</th>\n      <td>23/04/2018</td>\n      <td>42300</td>\n      <td>41300</td>\n      <td>83600</td>\n      <td>1940924</td>\n      <td>VND</td>\n      <td>Ba Ria</td>\n      <td>04</td>\n    </tr>\n    <tr>\n      <th>2</th>\n      <td>24/04/2018</td>\n      <td>41850</td>\n      <td>41300</td>\n      <td>83150</td>\n      <td>2291985</td>\n      <td>VND</td>\n      <td>Vung Tau</td>\n      <td>04</td>\n    </tr>\n    <tr>\n      <th>3</th>\n      <td>26/04/2018</td>\n      <td>41900</td>\n      <td>41400</td>\n      <td>83300</td>\n      <td>1306023</td>\n      <td>VND</td>\n      <td>Thu Dau Mot</td>\n      <td>04</td>\n    </tr>\n    <tr>\n      <th>4</th>\n      <td>27/04/2018</td>\n      <td>41800</td>\n      <td>40800</td>\n      <td>82600</td>\n      <td>1656048</td>\n      <td>VND</td>\n      <td>Di An</td>\n      <td>04</td>\n    </tr>\n  </tbody>\n</table>\n</div>"
     },
     "execution_count": 4,
     "metadata": {},
     "output_type": "execute_result"
    }
   ],
   "source": [
    "df1['Month'] = df1['Date'].str[3:5]\n",
    "df1.head()"
   ],
   "metadata": {
    "collapsed": false,
    "ExecuteTime": {
     "end_time": "2024-03-24T13:54:41.959384400Z",
     "start_time": "2024-03-24T13:54:41.937709Z"
    }
   },
   "id": "91150115b35bf850"
  },
  {
   "cell_type": "code",
   "execution_count": 5,
   "outputs": [
    {
     "name": "stdout",
     "output_type": "stream",
     "text": [
      "{'6/', '1/', '10', '02', '01', '09', '11', '04', '12', '9/', '03', '05', '08', '07', '06'}\n"
     ]
    }
   ],
   "source": [
    "print(set(df1['Month']))"
   ],
   "metadata": {
    "collapsed": false,
    "ExecuteTime": {
     "end_time": "2024-03-24T13:54:47.749819600Z",
     "start_time": "2024-03-24T13:54:47.742210900Z"
    }
   },
   "id": "99a406dfbec392cd"
  },
  {
   "cell_type": "code",
   "execution_count": 6,
   "outputs": [
    {
     "data": {
      "text/plain": "(1041, 8)"
     },
     "execution_count": 6,
     "metadata": {},
     "output_type": "execute_result"
    }
   ],
   "source": [
    "df1.shape"
   ],
   "metadata": {
    "collapsed": false,
    "ExecuteTime": {
     "end_time": "2024-03-24T13:54:52.712638200Z",
     "start_time": "2024-03-24T13:54:52.686528100Z"
    }
   },
   "id": "733ad3007a49a10a"
  },
  {
   "cell_type": "code",
   "execution_count": 7,
   "outputs": [],
   "source": [
    "df1 = df1[df1['Month'] != '6/']\n",
    "df1 = df1[df1['Month'] != '1/']\n",
    "df1 = df1[df1['Month'] != '9/']"
   ],
   "metadata": {
    "collapsed": false,
    "ExecuteTime": {
     "end_time": "2024-03-24T13:54:56.711221100Z",
     "start_time": "2024-03-24T13:54:56.685911100Z"
    }
   },
   "id": "4f300eced59a2a4"
  },
  {
   "cell_type": "code",
   "execution_count": 8,
   "outputs": [
    {
     "name": "stdout",
     "output_type": "stream",
     "text": [
      "{'10', '02', '01', '09', '11', '04', '12', '03', '05', '08', '07', '06'}\n"
     ]
    }
   ],
   "source": [
    "print(set(df1['Month']))"
   ],
   "metadata": {
    "collapsed": false,
    "ExecuteTime": {
     "end_time": "2024-03-24T13:54:58.710363800Z",
     "start_time": "2024-03-24T13:54:58.704018800Z"
    }
   },
   "id": "b808664e98aada03"
  },
  {
   "cell_type": "code",
   "execution_count": 9,
   "outputs": [
    {
     "data": {
      "text/plain": "(1038, 8)"
     },
     "execution_count": 9,
     "metadata": {},
     "output_type": "execute_result"
    }
   ],
   "source": [
    "df1.shape"
   ],
   "metadata": {
    "collapsed": false,
    "ExecuteTime": {
     "end_time": "2024-03-24T13:55:02.131451600Z",
     "start_time": "2024-03-24T13:55:02.117825100Z"
    }
   },
   "id": "47b475d89c4b0c36"
  },
  {
   "cell_type": "code",
   "execution_count": 10,
   "outputs": [
    {
     "data": {
      "text/plain": "Month\n01    3112950\n02    2973338\n03    3387955\n04    2664252\n05    3016513\n06    2882505\n07    3127620\n08    3163480\n09    3168997\n10    3384386\n11    3296683\n12    3362976\nName: Q-P2, dtype: int64"
     },
     "execution_count": 10,
     "metadata": {},
     "output_type": "execute_result"
    }
   ],
   "source": [
    "df1.groupby('Month').sum()['Q-P2']"
   ],
   "metadata": {
    "collapsed": false,
    "ExecuteTime": {
     "end_time": "2024-03-24T13:55:05.290002900Z",
     "start_time": "2024-03-24T13:55:05.266727400Z"
    }
   },
   "id": "bd9fe65934d96d94"
  },
  {
   "cell_type": "code",
   "execution_count": 11,
   "outputs": [
    {
     "data": {
      "text/plain": "3387955"
     },
     "execution_count": 11,
     "metadata": {},
     "output_type": "execute_result"
    }
   ],
   "source": [
    "sales_value = df1.groupby('Month').sum() ['Q-P2']\n",
    "sales_value.max()"
   ],
   "metadata": {
    "collapsed": false,
    "ExecuteTime": {
     "end_time": "2024-03-24T13:55:10.528396600Z",
     "start_time": "2024-03-24T13:55:10.504149300Z"
    }
   },
   "id": "1bd3e74cf69023c5"
  },
  {
   "cell_type": "code",
   "execution_count": 12,
   "outputs": [
    {
     "data": {
      "text/plain": "<Figure size 640x480 with 1 Axes>",
      "image/png": "[encoded data removed]"
     },
     "metadata": {},
     "output_type": "display_data"
    }
   ],
   "source": [
    "months = range(1,13)\n",
    "plt.bar(x=months, height=sales_value)\n",
    "plt.xticks(months)\n",
    "plt.title(\"doanh thu của sản phẩm P1\")\n",
    "plt.xlabel('Tháng')\n",
    "plt.ylabel('Doanh thu (VND)')\n",
    "plt.show()"
   ],
   "metadata": {
    "collapsed": false,
    "ExecuteTime": {
     "end_time": "2024-03-24T13:55:13.781811400Z",
     "start_time": "2024-03-24T13:55:13.527045300Z"
    }
   },
   "id": "9c219421c4d72e90"
  },
  {
   "cell_type": "code",
   "execution_count": 13,
   "outputs": [
    {
     "data": {
      "text/plain": "         Date   Q-P1   S-P2   Q-P2   Volume Currency               TP Month\n0  20/04/2018  40150  40000  80150  4164231      VND  TP. Ho Chi Minh    04\n1  23/04/2018  42300  41300  83600  1940924      VND           Ba Ria    04\n2  24/04/2018  41850  41300  83150  2291985      VND         Vung Tau    04\n3  26/04/2018  41900  41400  83300  1306023      VND      Thu Dau Mot    04\n4  27/04/2018  41800  40800  82600  1656048      VND            Di An    04",
      "text/html": "<div>\n<style scoped>\n    .dataframe tbody tr th:only-of-type {\n        vertical-align: middle;\n    }\n\n    .dataframe tbody tr th {\n        vertical-align: top;\n    }\n\n    .dataframe thead th {\n        text-align: right;\n    }\n</style>\n<table border=\"1\" class=\"dataframe\">\n  <thead>\n    <tr style=\"text-align: right;\">\n      <th></th>\n      <th>Date</th>\n      <th>Q-P1</th>\n      <th>S-P2</th>\n      <th>Q-P2</th>\n      <th>Volume</th>\n      <th>Currency</th>\n      <th>TP</th>\n      <th>Month</th>\n    </tr>\n  </thead>\n  <tbody>\n    <tr>\n      <th>0</th>\n      <td>20/04/2018</td>\n      <td>40150</td>\n      <td>40000</td>\n      <td>80150</td>\n      <td>4164231</td>\n      <td>VND</td>\n      <td>TP. Ho Chi Minh</td>\n      <td>04</td>\n    </tr>\n    <tr>\n      <th>1</th>\n      <td>23/04/2018</td>\n      <td>42300</td>\n      <td>41300</td>\n      <td>83600</td>\n      <td>1940924</td>\n      <td>VND</td>\n      <td>Ba Ria</td>\n      <td>04</td>\n    </tr>\n    <tr>\n      <th>2</th>\n      <td>24/04/2018</td>\n      <td>41850</td>\n      <td>41300</td>\n      <td>83150</td>\n      <td>2291985</td>\n      <td>VND</td>\n      <td>Vung Tau</td>\n      <td>04</td>\n    </tr>\n    <tr>\n      <th>3</th>\n      <td>26/04/2018</td>\n      <td>41900</td>\n      <td>41400</td>\n      <td>83300</td>\n      <td>1306023</td>\n      <td>VND</td>\n      <td>Thu Dau Mot</td>\n      <td>04</td>\n    </tr>\n    <tr>\n      <th>4</th>\n      <td>27/04/2018</td>\n      <td>41800</td>\n      <td>40800</td>\n      <td>82600</td>\n      <td>1656048</td>\n      <td>VND</td>\n      <td>Di An</td>\n      <td>04</td>\n    </tr>\n  </tbody>\n</table>\n</div>"
     },
     "execution_count": 13,
     "metadata": {},
     "output_type": "execute_result"
    }
   ],
   "source": [
    "df1.head()"
   ],
   "metadata": {
    "collapsed": false,
    "ExecuteTime": {
     "end_time": "2024-03-24T13:55:18.991262Z",
     "start_time": "2024-03-24T13:55:18.971884300Z"
    }
   },
   "id": "1c8c8fd805295c7b"
  },
  {
   "cell_type": "code",
   "execution_count": 14,
   "outputs": [
    {
     "data": {
      "text/plain": "TP\nBa Ria             3379327\nBien Hoa           3394457\nBinh Long          3396334\nDi An              3518398\nDong Xoai          3415163\nLong Khanh         3436070\nTP. Ho Chi Minh    3439476\nTay Ninh           3258787\nThu Dau Mot        3448468\nThuan An           3452729\nVung Tau           3402446\nName: Q-P2, dtype: int64"
     },
     "execution_count": 14,
     "metadata": {},
     "output_type": "execute_result"
    }
   ],
   "source": [
    "df1.groupby('TP').sum()['Q-P2']"
   ],
   "metadata": {
    "collapsed": false,
    "ExecuteTime": {
     "end_time": "2024-03-24T13:55:22.786467300Z",
     "start_time": "2024-03-24T13:55:22.763741600Z"
    }
   },
   "id": "d496a9412af14bbf"
  },
  {
   "cell_type": "code",
   "execution_count": 15,
   "outputs": [
    {
     "data": {
      "text/plain": "3518398"
     },
     "execution_count": 15,
     "metadata": {},
     "output_type": "execute_result"
    }
   ],
   "source": [
    "sales_value_TP = df1.groupby('TP').sum() ['Q-P2']\n",
    "sales_value_TP.max()"
   ],
   "metadata": {
    "collapsed": false,
    "ExecuteTime": {
     "end_time": "2024-03-24T13:55:29.199575Z",
     "start_time": "2024-03-24T13:55:29.174970900Z"
    }
   },
   "id": "e004225b0be86ce6"
  },
  {
   "cell_type": "code",
   "execution_count": 16,
   "outputs": [],
   "source": [
    "cities=df1['TP'].unique()"
   ],
   "metadata": {
    "collapsed": false,
    "ExecuteTime": {
     "end_time": "2024-03-24T13:55:33.126719600Z",
     "start_time": "2024-03-24T13:55:33.118699500Z"
    }
   },
   "id": "6ffae0e5531e176f"
  },
  {
   "cell_type": "code",
   "execution_count": 17,
   "outputs": [
    {
     "data": {
      "text/plain": "<Figure size 2400x800 with 1 Axes>",
      "image/png": "[encoded data removed]"
     },
     "metadata": {},
     "output_type": "display_data"
    }
   ],
   "source": [
    "plt.figure(figsize=(24, 8))\n",
    "plt.bar(x=cities, height=sales_value_TP)\n",
    "plt.xticks(cities, rotation=90,fontsize=15)\n",
    "plt.title(\"doanh thu của sản phẩm P1\")\n",
    "plt.xlabel('TP')\n",
    "plt.ylabel('Doanh thu (VND)')\n",
    "plt.show()"
   ],
   "metadata": {
    "collapsed": false,
    "ExecuteTime": {
     "end_time": "2024-03-24T13:55:34.753765200Z",
     "start_time": "2024-03-24T13:55:34.557603800Z"
    }
   },
   "id": "ee692909d596cfbc"
  },
  {
   "cell_type": "code",
   "execution_count": null,
   "outputs": [],
   "source": [],
   "metadata": {
    "collapsed": false
   },
   "id": "3e8877fcd5c28e75"
  }
 ],
 "metadata": {
  "kernelspec": {
   "display_name": "Python 3",
   "language": "python",
   "name": "python3"
  },
  "language_info": {
   "codemirror_mode": {
    "name": "ipython",
    "version": 2
   },
   "file_extension": ".py",
   "mimetype": "text/x-python",
   "name": "python",
   "nbconvert_exporter": "python",
   "pygments_lexer": "ipython2",
   "version": "2.7.6"
  }
 },
 "nbformat": 4,
 "nbformat_minor": 5
}
